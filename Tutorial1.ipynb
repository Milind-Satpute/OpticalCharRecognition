{
 "cells": [
  {
   "cell_type": "code",
   "execution_count": 2,
   "metadata": {},
   "outputs": [
    {
     "ename": "SyntaxError",
     "evalue": "invalid syntax (__init__.py, line 34)",
     "output_type": "error",
     "traceback": [
      "\u001b[1;36m  File \u001b[1;32m\"C:\\Users\\ADMIN\\Anaconda3\\lib\\site-packages\\tesseract\\__init__.py\"\u001b[1;36m, line \u001b[1;32m34\u001b[0m\n\u001b[1;33m    print 'Creating user config file: {}'.format(_config_file_usr)\u001b[0m\n\u001b[1;37m                                        ^\u001b[0m\n\u001b[1;31mSyntaxError\u001b[0m\u001b[1;31m:\u001b[0m invalid syntax\n"
     ]
    }
   ],
   "source": [
    "#import tesserocr\n",
    "from tesseract import image_to_string\n",
    "from PIL import Image\n",
    "\n",
    "#print(tesseract.tesseract_version())  # print tesseract-ocr version\n",
    "print(tesseract.get_languages())  # prints tessdata path and list of available languages\n",
    "\n",
    "image = Image.open('ML.jpg')\n",
    "print(image)\n",
    "#print(tesseract.image_to_text(image))  # print ocr text from image\n",
    "# or\n",
    "#print(tesserocr.file_to_text('sample.jpg'))"
   ]
  }
 ],
 "metadata": {
  "kernelspec": {
   "display_name": "Python 3",
   "language": "python",
   "name": "python3"
  }
 },
 "nbformat": 4,
 "nbformat_minor": 2
}
