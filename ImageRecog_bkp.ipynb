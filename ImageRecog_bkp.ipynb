#video 1 
import numpy as np
import matplotlib
import PIL
from PIL import Image #64bit
import matplotlib.pyplot as plt
import time
from functools import reduce
from collections import Counter

#video-9

def whatThisImage(filePath):
    matchedAr=[]
    loadExamples=open("numberExample.txt", 'r').read()
    loadExamples=loadExamples.split('\n')
    
    i=Image.open(filePath)
    iar=np.array(i)
    iar1=iar.tolist();

#    iar1=iar1.tolist();

    
    iQuestion = str(iar1)
    
    for eachExample in loadExamples :
        if len(eachExample) > 3 :
            splitEx = eachExample.split('::')
            currentNum = splitEx[0]
            currentAr = splitEx[1]
            
            eachPixEx = currentAr.split('],')
            
            eachPixInQ = iQuestion.split('],')
            
            x=0
            
            while x < len(eachPixEx):
                if eachPixEx[x] == eachPixInQ[x]:
                    matchedAr.append(int(currentNum))
                    
                x += 1        
                        
    #print(matchedAr)                 
    x = Counter(matchedAr)
    #print(x)   
    graphX=[]
    graphY=[]
    
    for eachThing in x:
        #print(eachThing)
        graphX.append(eachThing)
        #print(x[eachThing])
        graphY.append(x[eachThing])
        
    fig =plt.figure()
    ax1 = plt.subplot2grid((4,4),(0,0),rowspan=1, colspan=4)
    ax2 = plt.subplot2grid((4,4),(1,0),rowspan=3, colspan=4)
    
    ax1.imshow(iar)
    ax2.bar(graphX,graphY, align = 'center')
    plt.ylim(400)
    plt.show()





#video7 -create examples8

def createExamples() :
    numberArrayExamples=open("numberExample.txt", 'a')
    numberWeHave= range(0,10)
    versionsWeHave=range(1,10)
    
    for eachNum in numberWeHave:
        for eachVer in versionsWeHave:
            imgFilePath= 'Images/numbers/'+ str(eachNum)+'.'+ str(eachVer) +'.png'            
            ei = Image.open(imgFilePath)
            eiar=np.array(ei)
            eiar1=str(eiar.tolist())
            lineToWrite= str(eachNum)+'::'+ eiar1 +'\n'
            numberArrayExamples.write(lineToWrite)






#video 6 converting image balck and white to  remove case of hue .and create threshold
def threshold(imageArray):
    balanceAr=[]
    newAr=imageArray
    for eachrow in imageArray:
        for eachPix in eachrow:
            #print(eachpixel)
            avgNum=reduce(lambda x,y: x + y, eachPix[:3])/len(eachPix[:3])
            #print(avgNum)
            balanceAr.append(avgNum)
            balance=reduce(lambda x,y: x + y, balanceAr)/len(balanceAr)
    for eachrow in newAr:
        for eachpix in eachrow:
            eachpix.setflags(write=1)
            if reduce(lambda x,y: x + y, eachpix[:3])/len(eachpix[:3]) > balance:
               # print('in if','balance: ',balance,'reduce: ',reduce(lambda x,y: x + y, eachPix[:3])/len(eachPix[:3]))
                #white
                eachpix[0]=255
                eachpix[1]=255
                eachpix[2]=255
                eachpix[3]=255
            else:
                #Balck and White
                eachpix[0]=0
                eachpix[1]=0
                eachpix[2]=0
                eachpix[3]=255
            
            
    return newAr  


#importing the Image --video 2 
i=Image.open('Images/sentdex.png')
iar=np.asarray(i)#3d array
#print(iar)
#i1=Image.open('Images/numbers/y0.4.png')
#iar1=np.asarray(i1)#3d array
#iarray=[]
#iarray=threshold(iar)
#print(iarray)
#threshold(iar1)
#createExamples()
whatThisImage('Images/num.png')
#fir=plt.figure()
#ax1=plt.subplot2grid((8,6), (0,0), rowspan=4, colspan=3 )
#ax2=plt.subplot2grid((8,6), (4,0), rowspan=4, colspan=3 )
#ax1.imshow(iar)
#ax2.imshow(iar1)
#plt.show()

#print(iar) #Image is 8X8 row column each output is is row withing the image .
#    R   G   B Alpha
#[[  0   0   0 255] 1 pixel
 # [255 255 255 255] 2 pixel 
  #[255 255 255 255]
  #[255 255 255 255]
  #[255 255 255 255]
  #[255 255 255 255]
  #[255 255 255 255]
  #[255 255 255 255]] 8 pixel
        
#--video 3
#255 means image was saved as 255 bit maps
#why RGB??

#Video 4 Visulaize using matlablib

#plt.imshow(iar)
#plt.show()    

          
            
            
            
            
            


