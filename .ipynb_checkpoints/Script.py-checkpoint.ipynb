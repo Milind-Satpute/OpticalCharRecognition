{
 "cells": [
  {
   "cell_type": "code",
   "execution_count": 4,
   "metadata": {},
   "outputs": [
    {
     "ename": "IndentationError",
     "evalue": "unexpected indent (<ipython-input-4-7c601da964d5>, line 6)",
     "output_type": "error",
     "traceback": [
      "\u001b[1;36m  File \u001b[1;32m\"<ipython-input-4-7c601da964d5>\"\u001b[1;36m, line \u001b[1;32m6\u001b[0m\n\u001b[1;33m    response = urlopen(request)\u001b[0m\n\u001b[1;37m    ^\u001b[0m\n\u001b[1;31mIndentationError\u001b[0m\u001b[1;31m:\u001b[0m unexpected indent\n"
     ]
    }
   ],
   "source": [
    "from urllib2 import Request, urlopen, URLError\n",
    "\n",
    "request = Request('http://placekitten.com/')\n",
    "\n",
    "#try:\n",
    "    response = urlopen(request)\n",
    "    kittens = response.read()\n",
    "    print(kittens[559:1000])\n",
    "#except URLError, e:\n",
    " #   print('No kittez. Got an error code:', URLError)"
   ]
  }
 ],
 "metadata": {
  "kernelspec": {
   "display_name": "Python 3",
   "language": "python",
   "name": "python3"
  },
  "language_info": {
   "codemirror_mode": {
    "name": "ipython",
    "version": 3
   },
   "file_extension": ".py",
   "mimetype": "text/x-python",
   "name": "python",
   "nbconvert_exporter": "python",
   "pygments_lexer": "ipython3",
   "version": "3.6.1"
  }
 },
 "nbformat": 4,
 "nbformat_minor": 2
}
