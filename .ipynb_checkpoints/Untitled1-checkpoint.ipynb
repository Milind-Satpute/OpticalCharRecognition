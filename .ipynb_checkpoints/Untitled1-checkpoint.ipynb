{
 "cells": [
  {
   "cell_type": "code",
   "execution_count": 7,
   "metadata": {},
   "outputs": [
    {
     "name": "stdout",
     "output_type": "stream",
     "text": [
      "['Man', 'live', 'alone', '.', 'He', 'needs', 'friends', '.', 'Something', 'loves', 'must', '.', 'Therefore', ',', 'likes', 'live', 'company', 'men', 'company', 'animals', '.', 'There', 'some', 'love', 'company', 'Nature', '.', 'There', 'also', 'who', 'loved', 'company', 'books', '.', 'The', 'company', 'books', 'gives', 'pleasure', 'company', 'man', 'Nature', '.', 'What', 'book', '?', 'A', 'book', 'map', 'man', '’', 'life', 'life', 'nature', '.', 'Every', 'page', 'great', 'book', 'store-house', 'man', '’', 'best', 'noblest', 'thoughts', '.', 'In', 'library', 'meet', 'these', 'mighty', 'minds', 'whole', 'world', '.', 'But', 'books', 'not', 'innocent', '.', 'There', 'flood', 'books', 'today', '.', 'A', 'flood', 'always', 'bad', 'thing', '.', 'Even', 'a', 'flood', 'tears', 'bad', '.', 'How', 'a', 'flood', 'books', 'good', ',', '?', 'You', 'must', 'careful', 'this', '.', 'Don', '’', 'carried', 'away', 'this', 'flood', '.', 'It', 'good', 'live', 'company', 'bad', 'books', '.', 'But', 'bad', 'fall', 'company', 'bad', 'books', '.', 'Through', 'the', 'influence', 'bad', 'books', 'pick', 'bad', 'habits', 'without', 'knowing', '.', 'Therefore', ',', 'must', 'select', 'companions', 'great', 'care', '.', 'You', 'must', 'make', 'a', 'choice', 'wisely', '.', 'But', 'even', 'the', 'very', 'best', 'books', 'not', 'give', 'everything', '.', 'The', 'company', 'books', 'give', 'knowledge', 'it', 'not', 'give', 'wisdom', '.', 'No', 'book', 'make', 'a', 'great', 'scientist', '.', 'Newton', 'not', 'born', 'a', 'library', '.', 'He', 'not', 'read', 'much', '.', 'He', 'lives', 'the', 'company', 'plants', 'flowers', '.', 'So', ',', 'a', 'library', 'not', 'make', 'a', 'great', 'poet', 'thinker', '.', 'Even', 'the', 'books', 'your', 'choice', 'may', 'make', 'a', 'bookworm', '.', 'You', 'get', 'only', 'second-hand', 'information', '.', 'You', 'can', 'not', 'truly', 'great', 'unless', 'see', 'your', 'eyes', 'hear', 'your', 'ears', '.', 'Therefore', ',', 'must', 'come', 'the', 'world', 'books', 'time', 'time', 'live', 'in', 'the', 'company', 'man', 'nature', '.', 'The', 'life', 'man', 'the', 'life', 'Nature', 'must', 'be', 'mixed', 'with', 'the', 'company', 'books', '.', 'A', 'divorce', 'book', 'life', 'is', 'full', 'dangers', '.', 'So', ',', 'read', 'not', 'only', 'books', 'also', 'the', 'great', 'Book', 'of', 'Life', 'Nature', '.']\n"
     ]
    }
   ],
   "source": [
    "import nltk \n",
    "from nltk.corpus import stopwords\n",
    "dataFile=open(\"C:/Users/ADMIN/Desktop/Python Tutorial/rawdata.txt\")\n",
    "\n",
    "rawData=dataFile.read()\n",
    "\n",
    "#print(Rawdata)\n",
    "#tokenizer\n",
    "token=nltk.word_tokenize(rawData)\n",
    "#print(token)\n",
    "#lemma=nltk.WordNetLemmatizar()\n",
    "#for word in token:\n",
    "#    lemma.lemmatize(word)\n",
    "#Removing Stoping Words\n",
    "filtered_word_list = token #make a copy of the word_list\n",
    "for word in token:\n",
    "    if word in stopwords.words('english'):\n",
    "        filtered_word_list.remove(word)\n",
    "    \n",
    "print(filtered_word_list)\n",
    "\n",
    "\n"
   ]
  }
 ],
 "metadata": {
  "kernelspec": {
   "display_name": "Python 3",
   "language": "python",
   "name": "python3"
  },
  "language_info": {
   "codemirror_mode": {
    "name": "ipython",
    "version": 3
   },
   "file_extension": ".py",
   "mimetype": "text/x-python",
   "name": "python",
   "nbconvert_exporter": "python",
   "pygments_lexer": "ipython3",
   "version": "3.6.1"
  }
 },
 "nbformat": 4,
 "nbformat_minor": 2
}
